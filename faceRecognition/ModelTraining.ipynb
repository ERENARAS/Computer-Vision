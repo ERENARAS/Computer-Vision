{
 "cells": [
  {
   "cell_type": "code",
   "execution_count": 26,
   "id": "24c925f2-9e32-4a0a-a180-1271820ec8c4",
   "metadata": {},
   "outputs": [],
   "source": [
    "import cv2 as cv\n",
    "import os\n",
    "from PIL import Image \n",
    "import numpy as np"
   ]
  },
  {
   "cell_type": "code",
   "execution_count": 27,
   "id": "17e670e0-8543-4d25-989a-466c3ab17ecc",
   "metadata": {},
   "outputs": [],
   "source": [
    "path = 'dataset'"
   ]
  },
  {
   "cell_type": "code",
   "execution_count": 28,
   "id": "768091c8-9fd4-4651-a811-68ef88f6a102",
   "metadata": {},
   "outputs": [],
   "source": [
    "recognizer = cv.face.LBPHFaceRecognizer_create()\n",
    "\n",
    "detector = cv.CascadeClassifier(cv.data.haarcascades + \"haarcascade_frontalface_default.xml\")"
   ]
  },
  {
   "cell_type": "code",
   "execution_count": 29,
   "id": "ea949d89-3d2e-4f34-8ce0-290997363466",
   "metadata": {},
   "outputs": [],
   "source": [
    "def getImagesAndLabels(path):\n",
    "    imagePaths = [os.path.join(path, f) for f in os.listdir(path)]\n",
    "    faceSamples = []\n",
    "    ids = []\n",
    "    for imagePath in imagePaths:\n",
    "        PIL_img = Image.open(imagePath).convert('L') \n",
    "        img_numpy = np.array(PIL_img, 'uint8')\n",
    "        \n",
    "        id = int(os.path.split(imagePath)[-1].split(\".\")[1])\n",
    "        \n",
    "        faces = detector.detectMultiScale(img_numpy)\n",
    "        for (x, y, w, h) in faces:\n",
    "            faceSamples.append(img_numpy[y:y+h, x:x+w])\n",
    "            ids.append(id)\n",
    "            \n",
    "    return faceSamples, ids"
   ]
  },
  {
   "cell_type": "code",
   "execution_count": 30,
   "id": "87362f53-0707-485b-bfc4-9387636c444e",
   "metadata": {},
   "outputs": [
    {
     "name": "stdout",
     "output_type": "stream",
     "text": [
      "\n",
      " [BİLGİ] Model eğitiliyor. Birkaç saniye sürebilir. Lütfen bekleyin ...\n"
     ]
    }
   ],
   "source": [
    "print(\"\\n Model eğitiliyor. Birkaç saniye sürebilir. Lütfen bekleyin ...\")\n",
    "faces, ids = getImagesAndLabels(path)\n",
    "recognizer.train(faces, np.array(ids))"
   ]
  },
  {
   "cell_type": "code",
   "execution_count": 31,
   "id": "8834748e-e734-4577-90cc-9f4bce6e27c1",
   "metadata": {},
   "outputs": [
    {
     "name": "stdout",
     "output_type": "stream",
     "text": [
      "\n",
      " [BİLGİ] 1 adet yüz eğitildi. Programdan çıkılıyor.\n"
     ]
    }
   ],
   "source": [
    "if not os.path.exists('trainer'):\n",
    "    os.makedirs('trainer')\n",
    "recognizer.write('trainer/trainer.yml')\n",
    "\n",
    "print(f\"\\n [BİLGİ] {len(np.unique(ids))} adet yüz eğitildi. Programdan çıkılıyor.\")"
   ]
  },
  {
   "cell_type": "code",
   "execution_count": null,
   "id": "a40ee57d-38fd-46e0-b6f6-8b46d44c4e93",
   "metadata": {},
   "outputs": [],
   "source": []
  }
 ],
 "metadata": {
  "kernelspec": {
   "display_name": "Python [conda env:base] *",
   "language": "python",
   "name": "conda-base-py"
  },
  "language_info": {
   "codemirror_mode": {
    "name": "ipython",
    "version": 3
   },
   "file_extension": ".py",
   "mimetype": "text/x-python",
   "name": "python",
   "nbconvert_exporter": "python",
   "pygments_lexer": "ipython3",
   "version": "3.12.7"
  }
 },
 "nbformat": 4,
 "nbformat_minor": 5
}
