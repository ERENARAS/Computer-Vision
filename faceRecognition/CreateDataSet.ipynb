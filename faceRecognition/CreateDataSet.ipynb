{
 "cells": [
  {
   "cell_type": "code",
   "execution_count": 1,
   "id": "f332d53a-7e45-4aec-b127-5a6821776700",
   "metadata": {},
   "outputs": [],
   "source": [
    "import cv2 as cv\n",
    "import os\n",
    "import time "
   ]
  },
  {
   "cell_type": "code",
   "execution_count": 2,
   "id": "20acac7f-c583-4c42-a460-f41c9bdb3380",
   "metadata": {},
   "outputs": [
    {
     "name": "stderr",
     "output_type": "stream",
     "text": [
      "2025-09-13 18:17:21.863 python[4693:26618099] WARNING: AVCaptureDeviceTypeExternal is deprecated for Continuity Cameras. Please use AVCaptureDeviceTypeContinuityCamera and add NSCameraUseContinuityCameraDeviceType to your Info.plist.\n"
     ]
    },
    {
     "data": {
      "text/plain": [
       "True"
      ]
     },
     "execution_count": 2,
     "metadata": {},
     "output_type": "execute_result"
    }
   ],
   "source": [
    "cam = cv.VideoCapture(0)\n",
    "cam.set(3, 640) # Genişlik\n",
    "cam.set(4, 480) # Yükseklik"
   ]
  },
  {
   "cell_type": "code",
   "execution_count": 3,
   "id": "94693e1e-af41-4085-ad2c-d56c91c25fd3",
   "metadata": {},
   "outputs": [],
   "source": [
    "face_detector = cv.CascadeClassifier(cv.data.haarcascades + 'haarcascade_frontalface_default.xml')"
   ]
  },
  {
   "cell_type": "code",
   "execution_count": 5,
   "id": "a6252ce5-f16f-4bd0-9b7b-970718c2da76",
   "metadata": {},
   "outputs": [
    {
     "name": "stdin",
     "output_type": "stream",
     "text": [
      "\n",
      " Bu kişi için bir ID girin ve Enter'a basın ==>   1\n"
     ]
    }
   ],
   "source": [
    "face_id = input('\\n Bu kişi için bir ID girin ve Enter\\'a basın ==>  ')"
   ]
  },
  {
   "cell_type": "code",
   "execution_count": 6,
   "id": "4ca651ca-c9c8-40da-9624-05af87663dc4",
   "metadata": {},
   "outputs": [
    {
     "name": "stdout",
     "output_type": "stream",
     "text": [
      "\n",
      " [BİLGİ] Kamera başlatılıyor. Kameraya bakın ve bekleyin ...\n"
     ]
    }
   ],
   "source": [
    "print(\"\\n Kamera başlatılıyor. Kameraya bakın ve bekleyin ...\")\n",
    "\n",
    "count = 0"
   ]
  },
  {
   "cell_type": "code",
   "execution_count": 8,
   "id": "b6be45e4-00a9-41ce-82f7-ba081b05c864",
   "metadata": {},
   "outputs": [
    {
     "name": "stdout",
     "output_type": "stream",
     "text": [
      "\n",
      " [BİLGİ] Yüz yakalama tamamlandı. Programdan çıkılıyor.\n"
     ]
    }
   ],
   "source": [
    "if not os.path.exists('dataset'):\n",
    "    os.makedirs('dataset')\n",
    "\n",
    "while True:\n",
    "    ret, img = cam.read()\n",
    "    if not ret:\n",
    "        print(\"Kamera okunamadı.\")\n",
    "        break\n",
    "        \n",
    "    gray = cv.cvtColor(img, cv.COLOR_BGR2GRAY)\n",
    "    faces = face_detector.detectMultiScale(gray, 1.3, 5)\n",
    "\n",
    "    for (x, y, w, h) in faces:\n",
    "        cv.rectangle(img, (x, y), (x + w, y + h), (255, 0, 0), 2)\n",
    "        count += 1\n",
    "        # Yakalanan yüzü 'dataset' klasörüne kaydet\n",
    "        cv.imwrite(f\"dataset/User.{face_id}.{count}.jpg\", gray[y:y+h, x:x+w])\n",
    "        cv.imshow('imaj', img)\n",
    "        time.sleep(0.1)\n",
    "    k = cv.waitKey(100) & 0xff \n",
    "    if k == 27:\n",
    "        break\n",
    "    elif count >= 50: \n",
    "        break\n",
    "\n",
    "print(\"\\n Yüz yakalama tamamlandı. Programdan çıkılıyor.\")\n",
    "cam.release()\n",
    "cv.destroyAllWindows()"
   ]
  },
  {
   "cell_type": "code",
   "execution_count": null,
   "id": "5275f8c4-49d4-412b-ab88-28ae7e782f29",
   "metadata": {},
   "outputs": [],
   "source": []
  }
 ],
 "metadata": {
  "kernelspec": {
   "display_name": "Python [conda env:base] *",
   "language": "python",
   "name": "conda-base-py"
  },
  "language_info": {
   "codemirror_mode": {
    "name": "ipython",
    "version": 3
   },
   "file_extension": ".py",
   "mimetype": "text/x-python",
   "name": "python",
   "nbconvert_exporter": "python",
   "pygments_lexer": "ipython3",
   "version": "3.12.7"
  }
 },
 "nbformat": 4,
 "nbformat_minor": 5
}
