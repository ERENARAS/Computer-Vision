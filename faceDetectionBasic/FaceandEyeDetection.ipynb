{
 "cells": [
  {
   "cell_type": "code",
   "execution_count": 6,
   "id": "61e5a429-4738-42d3-9893-f523274ee2ae",
   "metadata": {},
   "outputs": [],
   "source": [
    "import cv2 as cv\n",
    "import sys\n",
    "import os"
   ]
  },
  {
   "cell_type": "markdown",
   "id": "8726ce11-f917-4483-a936-ffc8d9611f2e",
   "metadata": {},
   "source": [
    "\n",
    "#### Burada cascades_path ile face ve eye cascadelerini daha sonra kullanabilmek icin dosya konumunu kayit ediyoruz \n",
    "\n",
    "#### image ile de hangi yuzu yuz tespit icin kullanmak istiyorsak onu dosyadan cekiyoruz "
   ]
  },
  {
   "cell_type": "code",
   "execution_count": 7,
   "id": "74a7ce34-21e5-477d-bbc4-7ffebd8ca69f",
   "metadata": {},
   "outputs": [],
   "source": [
    "cascades_path = cv.data.haarcascades\n",
    "image = cv.imread(\"A.jpg\")"
   ]
  },
  {
   "cell_type": "markdown",
   "id": "bb4f147b-a80a-4eaf-a552-563cbc22bda0",
   "metadata": {},
   "source": [
    "#### gray ile daha dogru sonuclar alabilmek icin griye donduruyoruz resmi \n",
    "#### face ve eye cascadelerinin konumlarini degiskenlere atiyoruz "
   ]
  },
  {
   "cell_type": "code",
   "execution_count": 8,
   "id": "b5e435d0-78b4-4c24-ad00-85e441c6e77e",
   "metadata": {},
   "outputs": [],
   "source": [
    "gray = cv.cvtColor(image, cv.COLOR_BGR2GRAY)\n",
    "face_cascade_path = os.path.join(cascades_path, 'haarcascade_frontalface_alt.xml')\n",
    "eye_cascade_path = os.path.join(cascades_path, 'haarcascade_eye.xml')"
   ]
  },
  {
   "cell_type": "code",
   "execution_count": 10,
   "id": "30c1172b-61fa-4c19-81ae-d9eb2cf6e0a1",
   "metadata": {},
   "outputs": [],
   "source": [
    "face_cascade = cv.CascadeClassifier(face_cascade_path)\n",
    "eye_cascade = cv.CascadeClassifier(eye_cascade_path)"
   ]
  },
  {
   "cell_type": "code",
   "execution_count": 19,
   "id": "9e4a08b3-3504-47b6-b01e-59c57ecb8cf0",
   "metadata": {},
   "outputs": [],
   "source": [
    "face = face_cascade.detectMultiScale(\n",
    "    gray, \n",
    "    scaleFactor = 1.075,\n",
    "    minNeighbors = 5, \n",
    "    minSize = (15,15)\n",
    ")\n"
   ]
  },
  {
   "cell_type": "code",
   "execution_count": 14,
   "id": "91661c41-bbf5-4eb5-9e64-32a4dac3e529",
   "metadata": {},
   "outputs": [],
   "source": [
    "for(x,y,w,h) in face:\n",
    "    cv.rectangle(image, \n",
    "                 (x,y),\n",
    "                 (x+w,y+h), \n",
    "                 (255,0,0),\n",
    "                 2)\n",
    "    roi_gray = gray[y:y+h, x:x+w] \n",
    "    roi_color = image[y:y+h, x:x+w] \n",
    "    \n",
    "    eyes = eye_cascade.detectMultiScale(roi_gray) \n",
    "    for (ex,ey,ew,eh) in eyes: \n",
    "        cv.rectangle(\n",
    "        roi_color, \n",
    "        (ex,ey), \n",
    "        (ex+ew,ey+eh), \n",
    "        (0,255,0), \n",
    "        1)"
   ]
  },
  {
   "cell_type": "code",
   "execution_count": 18,
   "id": "dd2b0907-7b66-436b-b1fe-1489963d4e12",
   "metadata": {},
   "outputs": [
    {
     "name": "stdout",
     "output_type": "stream",
     "text": [
      "[INFO] 1 Yüz Bulundu! Bulunan Yüz Sayısı = \n",
      "[ Bilgi Mesajı… ] Görsel kaydedildi:  True\n"
     ]
    }
   ],
   "source": [
    "print(\"[INFO] {0} Yüz Bulundu! Bulunan Yüz Sayısı = \".format(len(face)))\n",
    "for (x, y, w, h) in face:\n",
    "    cv.rectangle(\n",
    "    image,\n",
    "    (x, y), \n",
    "    (x + w, y + h), \n",
    "    (0,0,255), \n",
    "    2)\n",
    "stuation = cv.imwrite('foto2.jpg', image)\n",
    "print(\"[ Bilgi Mesajı… ] Görsel kaydedildi: \", stuation)"
   ]
  },
  {
   "cell_type": "code",
   "execution_count": null,
   "id": "e7e1a9bf-cc93-4cee-8828-afd16a6ffcf5",
   "metadata": {},
   "outputs": [],
   "source": []
  }
 ],
 "metadata": {
  "kernelspec": {
   "display_name": "Python [conda env:base] *",
   "language": "python",
   "name": "conda-base-py"
  },
  "language_info": {
   "codemirror_mode": {
    "name": "ipython",
    "version": 3
   },
   "file_extension": ".py",
   "mimetype": "text/x-python",
   "name": "python",
   "nbconvert_exporter": "python",
   "pygments_lexer": "ipython3",
   "version": "3.12.7"
  }
 },
 "nbformat": 4,
 "nbformat_minor": 5
}
